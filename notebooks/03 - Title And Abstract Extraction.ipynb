{
 "cells": [
  {
   "cell_type": "markdown",
   "metadata": {},
   "source": [
    "# Title and Abstract Extraction\n",
    "\n",
    "- Extract the titles as best we can\n",
    "- Extract the abstracts (first 100 words) as best we can\n",
    "\n",
    "The title extraction code has been shamlessly stolen from [@benjpjones](https://github.com/benjpjones) (see original [here](https://github.com/UTA-REST/SnowmassScripts/blob/master/TitleExtraction/Step%202%20-%20ExtractTitles.ipynb))."
   ]
  },
  {
   "cell_type": "markdown",
   "metadata": {},
   "source": [
    "## Configuration"
   ]
  },
  {
   "cell_type": "code",
   "execution_count": null,
   "metadata": {},
   "outputs": [],
   "source": [
    "# The shortest plausible title\n",
    "min_title_len = 10\n",
    "max_lines_for_title = 40\n",
    "max_lines_for_abstract = 100\n",
    "max_words_for_abstract = 100\n",
    "\n",
    "# These words indicate that the sentence is not yet over\n",
    "hanging_words = [\"of\",\"for\",\"at\",\"the\",\"with\",\"from\", \" by\", \"using\",\"and\",\n",
    "                 \"neutrino\",\"other\",\"new\",\"beyond\",\"after\",\"above\",\"without\",\n",
    "                 \" a\",\" in\",\"-\",\":\",\"–\",\"next\",\"high\", \"oak\"]\n",
    "\n",
    "# These are words that indicate this may not be the title\n",
    "remove_words = [\"snowmass\",\"2021\",\"letter\",\"of\",\"interest\",\"submission\",\n",
    "                \"submitted\",\"to\",\"august\",\"2020\",\"topical\",\"group\",\"working\",\n",
    "                \"intent\",\"process\",\"contribution\",\"21\"]\n",
    "\n",
    "# And these will be removed from whatever we ultimately extract as the title\n",
    "import re\n",
    "skip_patterns = [re.compile(\"Snowmass\",re.IGNORECASE),\n",
    "                 re.compile(\"2021\",re.IGNORECASE),\n",
    "                 re.compile(\"Snowmass-2021\",re.IGNORECASE),\n",
    "                 re.compile(\"Snowmass2021\",re.IGNORECASE),\n",
    "                 re.compile(\"Letter Of Interest\", re.IGNORECASE),\n",
    "                 re.compile(\"Letter Of Intent\", re.IGNORECASE),\n",
    "                 re.compile(\"LOI\", re.IGNORECASE),\n",
    "                 re.compile(\":\", re.IGNORECASE)]\n",
    "\n",
    "import string\n",
    "punctuation = string.punctuation.replace(')', '')"
   ]
  },
  {
   "cell_type": "markdown",
   "metadata": {},
   "source": [
    "## Setup"
   ]
  },
  {
   "cell_type": "code",
   "execution_count": 2,
   "metadata": {},
   "outputs": [],
   "source": [
    "from config import text_file_info\n",
    "from pathlib import Path\n",
    "import string\n",
    "import json"
   ]
  },
  {
   "cell_type": "markdown",
   "metadata": {},
   "source": [
    "## Title And Abstract"
   ]
  },
  {
   "cell_type": "code",
   "execution_count": 3,
   "metadata": {},
   "outputs": [],
   "source": [
    "def clean_title(title):\n",
    "    'Clean the title up for final display'\n",
    "    title = ' '.join(title.split())\n",
    "    title = title.strip(punctuation).strip()\n",
    "    for p in skip_patterns:\n",
    "        p.sub('', title)\n",
    "    return title.strip()\n",
    "\n",
    "\n",
    "def extract_title(lines):\n",
    "    'Extract a title from a set of lines. Return as string'\n",
    "    title = None\n",
    "    for line in lines[:max_lines_for_title]:\n",
    "        words = [w for w in line.lower().split() if w.strip(punctuation) not in remove_words]\n",
    "        workstring = ' '.join(words)\n",
    "        workstring=workstring.translate(str.maketrans('', '', string.punctuation)).strip()\n",
    "\n",
    "        # If this is the first line of the title, then we are set to go\n",
    "        if len(workstring) > min_title_len:\n",
    "\n",
    "            # If this is the first line, look for a hanging word in the title. That means\n",
    "            # that is likely continues on the next line.\n",
    "            if title is None:\n",
    "                if words[-1] in hanging_words:\n",
    "                    title = line\n",
    "                    continue # Go for another loop. LOVE them goto statements!\n",
    "                title = line\n",
    "            else:\n",
    "                title += ' ' + line\n",
    "\n",
    "            # We have the title. Lets clean it up a little bit before returning it.\n",
    "            return clean_title(title)\n",
    "\n",
    "    # Bummer!\n",
    "    return None\n",
    "\n",
    "def extract_finder(lines, search_func):\n",
    "    'Extract the first 100 words after the word abstract'\n",
    "    abstract = None\n",
    "    for line in lines[:max_lines_for_abstract]:\n",
    "        if abstract is None:\n",
    "            abstract = search_func(line)\n",
    "        else:\n",
    "            abstract += line.split()\n",
    "        if abstract is not None and len(abstract) > max_words_for_abstract:\n",
    "            break\n",
    "\n",
    "    if abstract is None or len(abstract) == 0:\n",
    "        # Bummer!\n",
    "        return None\n",
    "            \n",
    "    return ' '.join(abstract[:max_words_for_abstract]).strip()\n",
    "\n",
    "start_words = ['abstract', 'introduction']\n",
    "def search_for_abstract(line):\n",
    "    for w in start_words:\n",
    "        idx = line.lower().find(w)\n",
    "        if idx >= 0:\n",
    "            return line[idx + len(w):].split()\n",
    "    return None\n",
    "\n",
    "\n",
    "def search_for_sentence(line):\n",
    "    'Look for a line with lots of characters and little punctuation and go from there'\n",
    "    if len(line) > 90:\n",
    "        without_punct = line.translate(str.maketrans('', '', string.punctuation)).strip()\n",
    "        if len(line) - len(without_punct) < 2:\n",
    "            return line.strip().split()\n",
    "    return None\n",
    "\n",
    "\n",
    "def search_for_anything(line):\n",
    "    'Give up'\n",
    "    new_line = ' '.join(line.split())\n",
    "    if len(new_line) > 40:\n",
    "        return line.strip().split()\n",
    "\n",
    "    \n",
    "def extract_abstract(lines):\n",
    "    a = extract_finder(lines, search_for_abstract)\n",
    "    if a is None:\n",
    "        a = extract_finder(lines, search_for_sentence)\n",
    "    if a is None:\n",
    "        a = extract_finder(lines, search_for_anything)\n",
    "    if a is None:\n",
    "        return \"\"\n",
    "    return a\n",
    "\n",
    "\n",
    "def lines_from_file(f):\n",
    "    'Given a path object to a text file for a LOI, return a title'\n",
    "    with f.open('r') as fd:\n",
    "        return fd.readlines()"
   ]
  },
  {
   "cell_type": "code",
   "execution_count": 4,
   "metadata": {},
   "outputs": [],
   "source": [
    "files = (Path(f[2]) for f in text_file_info())"
   ]
  },
  {
   "cell_type": "code",
   "execution_count": 5,
   "metadata": {},
   "outputs": [],
   "source": [
    "all_files = [\n",
    "    {\n",
    "        'file': str(f),\n",
    "        'title': extract_title(lines),\n",
    "        'abstract': extract_abstract(lines)\n",
    "    }\n",
    "    for f,lines in [(f, lines_from_file(f)) for f in files]\n",
    "]"
   ]
  },
  {
   "cell_type": "code",
   "execution_count": 6,
   "metadata": {},
   "outputs": [],
   "source": [
    "with open('../data/loi_info.json', 'w') as f:\n",
    "    json.dump(all_files,f)"
   ]
  }
 ],
 "metadata": {
  "kernelspec": {
   "display_name": "Python 3",
   "language": "python",
   "name": "python3"
  },
  "language_info": {
   "codemirror_mode": {
    "name": "ipython",
    "version": 3
   },
   "file_extension": ".py",
   "mimetype": "text/x-python",
   "name": "python",
   "nbconvert_exporter": "python",
   "pygments_lexer": "ipython3",
   "version": "3.6.9"
  }
 },
 "nbformat": 4,
 "nbformat_minor": 4
}
