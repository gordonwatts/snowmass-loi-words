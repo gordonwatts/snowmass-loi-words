{
 "cells": [
  {
   "cell_type": "markdown",
   "metadata": {},
   "source": [
    "# Extract Text\n",
    "\n",
    "This notebook extracts the text from the PDF's of the LOI.\n",
    "\n",
    "The LOI PDF's were downloaded [here](https://projects-docdb.fnal.gov/cgi-bin/ShowDocument?docid=7210). These were the LOI's that were uploaded as of Aug 31st, 2020, midnight Hawaii time."
   ]
  },
  {
   "cell_type": "code",
   "execution_count": 1,
   "metadata": {},
   "outputs": [],
   "source": [
    "loi_source = '/mnt/c/Users/gordo/OneDrive/WorkDocuments/Conferences/2021 - Snowmass/LOI/ByFrontier'"
   ]
  },
  {
   "cell_type": "markdown",
   "metadata": {},
   "source": [
    "## Setup"
   ]
  },
  {
   "cell_type": "code",
   "execution_count": 2,
   "metadata": {},
   "outputs": [],
   "source": [
    "import sys\n",
    "from pathlib import Path\n",
    "import pdftotext\n",
    "from config import loi_unpacked"
   ]
  },
  {
   "cell_type": "markdown",
   "metadata": {},
   "source": [
    "## Scanning for files\n",
    "\n",
    "This code helps us scan the directory structure for the PDF files, and then generate an output filename/path."
   ]
  },
  {
   "cell_type": "code",
   "execution_count": 3,
   "metadata": {},
   "outputs": [],
   "source": [
    "input_pdfs = list(Path(loi_source).glob('**/*.pdf'))"
   ]
  },
  {
   "cell_type": "markdown",
   "metadata": {},
   "source": [
    "The number of LOI's we have found here:"
   ]
  },
  {
   "cell_type": "code",
   "execution_count": 4,
   "metadata": {},
   "outputs": [
    {
     "data": {
      "text/plain": [
       "1573"
      ]
     },
     "execution_count": 4,
     "metadata": {},
     "output_type": "execute_result"
    }
   ],
   "source": [
    "len(input_pdfs)"
   ]
  },
  {
   "cell_type": "code",
   "execution_count": 5,
   "metadata": {},
   "outputs": [],
   "source": [
    "output_pdfs = (Path(loi_unpacked)/(p.relative_to(loi_source)).parent/f'{p.stem}.txt' for p in input_pdfs)\n",
    "as_in_out_pair = zip(input_pdfs, output_pdfs)"
   ]
  },
  {
   "cell_type": "markdown",
   "metadata": {},
   "source": [
    "## Converting them to text\n",
    "\n",
    "I used something I found on the web ([stackoverflow](https://stackoverflow.com/questions/55461041/how-to-convert-whole-pdf-to-text-in-python/60494643#60494643) of course)"
   ]
  },
  {
   "cell_type": "code",
   "execution_count": 6,
   "metadata": {},
   "outputs": [],
   "source": [
    "def translate_to_text(input_file: Path, output_file: Path):\n",
    "    try:\n",
    "        with input_file.open('rb') as input:\n",
    "            pdf = pdftotext.PDF(input)\n",
    "\n",
    "        output_file.parent.mkdir(exist_ok=True, parents=True)\n",
    "        with output_file.open('w') as o:\n",
    "            for p in pdf:\n",
    "                o.write(p)\n",
    "    except Exception as e:\n",
    "        print (f'Failed to open file {input_file}: {e}')"
   ]
  },
  {
   "cell_type": "markdown",
   "metadata": {},
   "source": [
    "Run all the cells - those printed out are ones that failed to parse in the PDF parser for whatever reason (bad??)"
   ]
  },
  {
   "cell_type": "code",
   "execution_count": 7,
   "metadata": {},
   "outputs": [
    {
     "name": "stdout",
     "output_type": "stream",
     "text": [
      "Failed to open file /mnt/c/Users/gordo/OneDrive/WorkDocuments/Conferences/2021 - Snowmass/LOI/ByFrontier/AF/SNOWMASS21-AF0_AF0_Pooja_Bajaj-235.pdf: poppler error creating document\n",
      "Failed to open file /mnt/c/Users/gordo/OneDrive/WorkDocuments/Conferences/2021 - Snowmass/LOI/ByFrontier/AF/SNOWMASS21-AF3_AF1-EF0_EF0-RF0_RF0-143.pdf: poppler error creating document\n",
      "Failed to open file /mnt/c/Users/gordo/OneDrive/WorkDocuments/Conferences/2021 - Snowmass/LOI/ByFrontier/AF/SNOWMASS21-AF7_AF0-063.pdf: poppler error creating document\n",
      "Failed to open file /mnt/c/Users/gordo/OneDrive/WorkDocuments/Conferences/2021 - Snowmass/LOI/ByFrontier/AF/SNOWMASS21-AF7_AF0-110.pdf: poppler error creating document\n",
      "Failed to open file /mnt/c/Users/gordo/OneDrive/WorkDocuments/Conferences/2021 - Snowmass/LOI/ByFrontier/AF/SNOWMASS21-AF7_AF0-174.pdf: poppler error creating document\n",
      "Failed to open file /mnt/c/Users/gordo/OneDrive/WorkDocuments/Conferences/2021 - Snowmass/LOI/ByFrontier/IF/SNOWMASS21-IF7_IF4_Sandeep_Miryala-178.pdf: poppler error creating document\n",
      "Failed to open file /mnt/c/Users/gordo/OneDrive/WorkDocuments/Conferences/2021 - Snowmass/LOI/ByFrontier/IF/SNOWMASS21-IF8_IF0-NF5_NF10-CF1_CF0-CompF5_CompF7_Matthew_Szydagis-105.pdf: poppler error creating document\n",
      "CPU times: user 1min 52s, sys: 4.73 s, total: 1min 57s\n",
      "Wall time: 3min 23s\n"
     ]
    }
   ],
   "source": [
    "%%time\n",
    "for s, d in as_in_out_pair:\n",
    "    translate_to_text(s, d)"
   ]
  }
 ],
 "metadata": {
  "kernelspec": {
   "display_name": "Python 3",
   "language": "python",
   "name": "python3"
  },
  "language_info": {
   "codemirror_mode": {
    "name": "ipython",
    "version": 3
   },
   "file_extension": ".py",
   "mimetype": "text/x-python",
   "name": "python",
   "nbconvert_exporter": "python",
   "pygments_lexer": "ipython3",
   "version": "3.6.9"
  }
 },
 "nbformat": 4,
 "nbformat_minor": 4
}
